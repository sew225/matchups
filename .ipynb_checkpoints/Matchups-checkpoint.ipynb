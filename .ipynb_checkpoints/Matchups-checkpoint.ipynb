{
 "cells": [
  {
   "cell_type": "code",
   "execution_count": 2,
   "id": "5db6b579-b72d-4b2a-b671-76d505802a8b",
   "metadata": {},
   "outputs": [
    {
     "name": "stdout",
     "output_type": "stream",
     "text": [
      "[{'game_id': 745896, 'game_datetime': '2024-06-12T17:10:00Z', 'game_date': '2024-06-12', 'game_type': 'R', 'status': 'Final', 'away_name': 'Colorado Rockies', 'home_name': 'Minnesota Twins', 'away_id': 115, 'home_id': 142, 'doubleheader': 'N', 'game_num': 1, 'home_probable_pitcher': 'Pablo López', 'away_probable_pitcher': 'Austin Gomber', 'home_pitcher_note': '', 'away_pitcher_note': '', 'away_score': 9, 'home_score': 17, 'current_inning': 9, 'inning_state': 'Top', 'venue_id': 3312, 'venue_name': 'Target Field', 'national_broadcasts': ['MLBN (out-of-market only)'], 'series_status': 'MIN wins 2-1', 'winning_team': 'Minnesota Twins', 'losing_team': 'Colorado Rockies', 'winning_pitcher': 'Pablo López', 'losing_pitcher': 'Austin Gomber', 'save_pitcher': None, 'summary': '2024-06-12 - Colorado Rockies (9) @ Minnesota Twins (17) (Final)'}, {'game_id': 745978, 'game_datetime': '2024-06-12T18:10:00Z', 'game_date': '2024-06-12', 'game_type': 'R', 'status': 'Final', 'away_name': 'Toronto Blue Jays', 'home_name': 'Milwaukee Brewers', 'away_id': 141, 'home_id': 158, 'doubleheader': 'N', 'game_num': 1, 'home_probable_pitcher': 'Tobias Myers', 'away_probable_pitcher': 'Chris Bassitt', 'home_pitcher_note': '', 'away_pitcher_note': '', 'away_score': 4, 'home_score': 5, 'current_inning': 9, 'inning_state': 'Top', 'venue_id': 32, 'venue_name': 'American Family Field', 'national_broadcasts': ['MLBN (out-of-market only)'], 'series_status': 'MIL wins 2-1', 'winning_team': 'Milwaukee Brewers', 'losing_team': 'Toronto Blue Jays', 'winning_pitcher': 'Tobias Myers', 'losing_pitcher': 'Zach Pop', 'save_pitcher': 'Trevor Megill', 'summary': '2024-06-12 - Toronto Blue Jays (4) @ Milwaukee Brewers (5) (Final)'}, {'game_id': 745328, 'game_datetime': '2024-06-12T19:45:00Z', 'game_date': '2024-06-12', 'game_type': 'R', 'status': 'Final', 'away_name': 'Houston Astros', 'home_name': 'San Francisco Giants', 'away_id': 117, 'home_id': 137, 'doubleheader': 'N', 'game_num': 1, 'home_probable_pitcher': 'Logan Webb', 'away_probable_pitcher': 'Framber Valdez', 'home_pitcher_note': '', 'away_pitcher_note': '', 'away_score': 3, 'home_score': 5, 'current_inning': 9, 'inning_state': 'Top', 'venue_id': 2395, 'venue_name': 'Oracle Park', 'national_broadcasts': [], 'series_status': 'SF wins 2-1', 'winning_team': 'San Francisco Giants', 'losing_team': 'Houston Astros', 'winning_pitcher': 'Logan Webb', 'losing_pitcher': 'Framber Valdez', 'save_pitcher': 'Camilo Doval', 'summary': '2024-06-12 - Houston Astros (3) @ San Francisco Giants (5) (Final)'}, {'game_id': 745405, 'game_datetime': '2024-06-12T20:10:00Z', 'game_date': '2024-06-12', 'game_type': 'R', 'status': 'Final', 'away_name': 'Oakland Athletics', 'home_name': 'San Diego Padres', 'away_id': 133, 'home_id': 135, 'doubleheader': 'N', 'game_num': 1, 'home_probable_pitcher': 'Michael King', 'away_probable_pitcher': 'Hogan Harris', 'home_pitcher_note': '', 'away_pitcher_note': '', 'away_score': 4, 'home_score': 5, 'current_inning': 9, 'inning_state': 'Bottom', 'venue_id': 2680, 'venue_name': 'Petco Park', 'national_broadcasts': [], 'series_status': 'SD wins 3-0', 'winning_team': 'San Diego Padres', 'losing_team': 'Oakland Athletics', 'winning_pitcher': 'Robert Suarez', 'losing_pitcher': 'Mason Miller', 'save_pitcher': None, 'summary': '2024-06-12 - Oakland Athletics (4) @ San Diego Padres (5) (Final)'}, {'game_id': 747028, 'game_datetime': '2024-06-12T22:35:00Z', 'game_date': '2024-06-12', 'game_type': 'R', 'status': 'In Progress', 'away_name': 'Atlanta Braves', 'home_name': 'Baltimore Orioles', 'away_id': 144, 'home_id': 110, 'doubleheader': 'N', 'game_num': 1, 'home_probable_pitcher': 'Cade Povich', 'away_probable_pitcher': 'Spencer Schwellenbach', 'home_pitcher_note': '', 'away_pitcher_note': '', 'away_score': 0, 'home_score': 0, 'current_inning': 3, 'inning_state': 'Middle', 'venue_id': 2, 'venue_name': 'Oriole Park at Camden Yards', 'national_broadcasts': [], 'series_status': 'BAL leads 1-0', 'summary': '2024-06-12 - Atlanta Braves (0) @ Baltimore Orioles (0) (Middle of the 3rd)'}, {'game_id': 746462, 'game_datetime': '2024-06-12T22:40:00Z', 'game_date': '2024-06-12', 'game_type': 'R', 'status': 'In Progress', 'away_name': 'Washington Nationals', 'home_name': 'Detroit Tigers', 'away_id': 120, 'home_id': 116, 'doubleheader': 'N', 'game_num': 1, 'home_probable_pitcher': 'Reese Olson', 'away_probable_pitcher': 'Jake Irvin', 'home_pitcher_note': '', 'away_pitcher_note': '', 'away_score': 0, 'home_score': 1, 'current_inning': 2, 'inning_state': 'End', 'venue_id': 2394, 'venue_name': 'Comerica Park', 'national_broadcasts': [], 'series_status': 'WSH leads 1-0', 'summary': '2024-06-12 - Washington Nationals (0) @ Detroit Tigers (1) (End of the 2nd)'}, {'game_id': 745079, 'game_datetime': '2024-06-12T22:50:00Z', 'game_date': '2024-06-12', 'game_type': 'R', 'status': 'In Progress', 'away_name': 'Chicago Cubs', 'home_name': 'Tampa Bay Rays', 'away_id': 112, 'home_id': 139, 'doubleheader': 'N', 'game_num': 1, 'home_probable_pitcher': 'Aaron Civale', 'away_probable_pitcher': 'Javier Assad', 'home_pitcher_note': '', 'away_pitcher_note': '', 'away_score': 0, 'home_score': 0, 'current_inning': 2, 'inning_state': 'Top', 'venue_id': 12, 'venue_name': 'Tropicana Field', 'national_broadcasts': [], 'series_status': 'TB leads 1-0', 'summary': '2024-06-12 - Chicago Cubs (0) @ Tampa Bay Rays (0) (Top of the 2nd)'}, {'game_id': 746701, 'game_datetime': '2024-06-12T23:10:00Z', 'game_date': '2024-06-12', 'game_type': 'R', 'status': 'Warmup', 'away_name': 'Cleveland Guardians', 'home_name': 'Cincinnati Reds', 'away_id': 114, 'home_id': 113, 'doubleheader': 'N', 'game_num': 1, 'home_probable_pitcher': 'Nick Lodolo', 'away_probable_pitcher': 'Tanner Bibee', 'home_pitcher_note': '', 'away_pitcher_note': '', 'away_score': 0, 'home_score': 0, 'current_inning': 1, 'inning_state': 'Top', 'venue_id': 2602, 'venue_name': 'Great American Ball Park', 'national_broadcasts': [], 'series_status': 'CLE leads 1-0', 'summary': '2024-06-12 - Cleveland Guardians @ Cincinnati Reds (Warmup)'}, {'game_id': 746948, 'game_datetime': '2024-06-12T23:10:00Z', 'game_date': '2024-06-12', 'game_type': 'R', 'status': 'Warmup', 'away_name': 'Philadelphia Phillies', 'home_name': 'Boston Red Sox', 'away_id': 143, 'home_id': 111, 'doubleheader': 'N', 'game_num': 1, 'home_probable_pitcher': 'Nick Pivetta', 'away_probable_pitcher': 'Cristopher Sánchez', 'home_pitcher_note': '', 'away_pitcher_note': '', 'away_score': 0, 'home_score': 0, 'current_inning': 1, 'inning_state': 'Top', 'venue_id': 3, 'venue_name': 'Fenway Park', 'national_broadcasts': [], 'series_status': 'PHI leads 1-0', 'summary': '2024-06-12 - Philadelphia Phillies @ Boston Red Sox (Warmup)'}, {'game_id': 745811, 'game_datetime': '2024-06-12T23:10:00Z', 'game_date': '2024-06-12', 'game_type': 'R', 'status': 'Warmup', 'away_name': 'Miami Marlins', 'home_name': 'New York Mets', 'away_id': 146, 'home_id': 121, 'doubleheader': 'N', 'game_num': 1, 'home_probable_pitcher': 'David Peterson', 'away_probable_pitcher': 'Braxton Garrett', 'home_pitcher_note': '', 'away_pitcher_note': '', 'away_score': 0, 'home_score': 0, 'current_inning': 1, 'inning_state': 'Top', 'venue_id': 3289, 'venue_name': 'Citi Field', 'national_broadcasts': ['MLB.tv Free Game'], 'series_status': 'MIA leads 1-0', 'summary': '2024-06-12 - Miami Marlins @ New York Mets (Warmup)'}, {'game_id': 745171, 'game_datetime': '2024-06-12T23:45:00Z', 'game_date': '2024-06-12', 'game_type': 'R', 'status': 'Pre-Game', 'away_name': 'Pittsburgh Pirates', 'home_name': 'St. Louis Cardinals', 'away_id': 134, 'home_id': 138, 'doubleheader': 'N', 'game_num': 1, 'home_probable_pitcher': 'Sonny Gray', 'away_probable_pitcher': 'Bailey Falter', 'home_pitcher_note': '', 'away_pitcher_note': '', 'away_score': 0, 'home_score': 0, 'current_inning': 1, 'inning_state': 'Top', 'venue_id': 2889, 'venue_name': 'Busch Stadium', 'national_broadcasts': [], 'series_status': 'PIT leads 1-0', 'summary': '2024-06-12 - Pittsburgh Pirates @ St. Louis Cardinals (Pre-Game)'}, {'game_id': 746294, 'game_datetime': '2024-06-13T00:10:00Z', 'game_date': '2024-06-12', 'game_type': 'R', 'status': 'Pre-Game', 'away_name': 'New York Yankees', 'home_name': 'Kansas City Royals', 'away_id': 147, 'home_id': 118, 'doubleheader': 'N', 'game_num': 1, 'home_probable_pitcher': 'Dan Altavilla', 'away_probable_pitcher': 'Cody Poteet', 'home_pitcher_note': '', 'away_pitcher_note': '', 'away_score': 0, 'home_score': 0, 'current_inning': 1, 'inning_state': 'Top', 'venue_id': 7, 'venue_name': 'Kauffman Stadium', 'national_broadcasts': [], 'series_status': 'NYY leads 2-0', 'summary': '2024-06-12 - New York Yankees @ Kansas City Royals (Pre-Game)'}, {'game_id': 747193, 'game_datetime': '2024-06-13T01:40:00Z', 'game_date': '2024-06-12', 'game_type': 'R', 'status': 'Pre-Game', 'away_name': 'Los Angeles Angels', 'home_name': 'Arizona Diamondbacks', 'away_id': 108, 'home_id': 109, 'doubleheader': 'N', 'game_num': 1, 'home_probable_pitcher': 'Slade Cecconi', 'away_probable_pitcher': 'José Soriano', 'home_pitcher_note': '', 'away_pitcher_note': '', 'away_score': 0, 'home_score': 0, 'current_inning': 1, 'inning_state': 'Top', 'venue_id': 15, 'venue_name': 'Chase Field', 'national_broadcasts': ['MLBN (out-of-market only)'], 'series_status': 'AZ leads 1-0', 'summary': '2024-06-12 - Los Angeles Angels @ Arizona Diamondbacks (Pre-Game)'}, {'game_id': 745246, 'game_datetime': '2024-06-13T01:40:00Z', 'game_date': '2024-06-12', 'game_type': 'R', 'status': 'Pre-Game', 'away_name': 'Chicago White Sox', 'home_name': 'Seattle Mariners', 'away_id': 145, 'home_id': 136, 'doubleheader': 'N', 'game_num': 1, 'home_probable_pitcher': 'Bryce Miller', 'away_probable_pitcher': 'Jonathan Cannon', 'home_pitcher_note': '', 'away_pitcher_note': '', 'away_score': 0, 'home_score': 0, 'current_inning': 1, 'inning_state': 'Top', 'venue_id': 680, 'venue_name': 'T-Mobile Park', 'national_broadcasts': ['MLBN (out-of-market only)'], 'series_status': 'SEA leads 2-0', 'summary': '2024-06-12 - Chicago White Sox @ Seattle Mariners (Pre-Game)'}, {'game_id': 746137, 'game_datetime': '2024-06-13T02:10:00Z', 'game_date': '2024-06-12', 'game_type': 'R', 'status': 'Pre-Game', 'away_name': 'Texas Rangers', 'home_name': 'Los Angeles Dodgers', 'away_id': 140, 'home_id': 119, 'doubleheader': 'N', 'game_num': 1, 'home_probable_pitcher': 'Walker Buehler', 'away_probable_pitcher': 'Jon Gray', 'home_pitcher_note': '', 'away_pitcher_note': '', 'away_score': 0, 'home_score': 0, 'current_inning': 1, 'inning_state': 'Top', 'venue_id': 22, 'venue_name': 'Dodger Stadium', 'national_broadcasts': ['MLBN (out-of-market only)'], 'series_status': 'LAD leads 1-0', 'summary': '2024-06-12 - Texas Rangers @ Los Angeles Dodgers (Pre-Game)'}]\n"
     ]
    }
   ],
   "source": [
    "import statsapi\n",
    "import requests\n",
    "import json\n",
    "BASE_URL = \"https://statsapi.mlb.com/api\"\n",
    "\n",
    "from datetime import datetime\n",
    "today = datetime.today().strftime('%Y-%m-%d')\n",
    "\n",
    "sched = statsapi.schedule(date=today)\n",
    "print(sched)\n",
    "\n",
    "games = []\n",
    "\n",
    "\n",
    "for game in sched:\n",
    "    games.append({\"away\" : {'id': game['away_id'], 'sp' : game['away_probable_pitcher']}, \"home\": {'id': game['home_id'], 'sp' : game['away_probable_pitcher']}})\n",
    "# # for game in sched:\n",
    "games\n",
    "    \n",
    "def check_div_index(div_id, league_id):\n",
    "    div_index = -1\n",
    "    if league_id == 103:\n",
    "        # al team\n",
    "        if div_id == 201:\n",
    "            # al east\n",
    "            div_index = 0\n",
    "        elif div_id == 202:\n",
    "            # al central\n",
    "            div_index = 1\n",
    "        elif div_id == 200:\n",
    "            # al west\n",
    "            div_index = 2\n",
    "    elif league_id == 104:\n",
    "        # nl team\n",
    "        if div_id == 204:\n",
    "            # nl east\n",
    "            div_index = 0\n",
    "        elif div_id == 205:\n",
    "            # nl central\n",
    "            div_index = 1\n",
    "        elif div_id == 203:\n",
    "            # nl west\n",
    "            div_index = 2\n",
    "    return div_index\n",
    "\n",
    "\n"
   ]
  },
  {
   "cell_type": "code",
   "execution_count": 57,
   "id": "73116576-43a6-4835-b725-d7c9327f2b66",
   "metadata": {},
   "outputs": [
    {
     "data": {
      "text/plain": [
       "[{'away': {'id': 115, 'div_id': 203, 'league_id': 104, 'div_index': 2},\n",
       "  'home': {'id': 142, 'div_id': 202, 'league_id': 103, 'div_index': 1}},\n",
       " {'away': {'id': 141, 'div_id': 201, 'league_id': 103, 'div_index': 0},\n",
       "  'home': {'id': 158, 'div_id': 205, 'league_id': 104, 'div_index': 1}},\n",
       " {'away': {'id': 117, 'div_id': 200, 'league_id': 103, 'div_index': 2},\n",
       "  'home': {'id': 137, 'div_id': 203, 'league_id': 104, 'div_index': 2}},\n",
       " {'away': {'id': 133, 'div_id': 200, 'league_id': 103, 'div_index': 2},\n",
       "  'home': {'id': 135, 'div_id': 203, 'league_id': 104, 'div_index': 2}},\n",
       " {'away': {'id': 144, 'div_id': 204, 'league_id': 104, 'div_index': 0},\n",
       "  'home': {'id': 110, 'div_id': 201, 'league_id': 103, 'div_index': 0}},\n",
       " {'away': {'id': 120, 'div_id': 204, 'league_id': 104, 'div_index': 0},\n",
       "  'home': {'id': 116, 'div_id': 202, 'league_id': 103, 'div_index': 1}},\n",
       " {'away': {'id': 112, 'div_id': 205, 'league_id': 104, 'div_index': 1},\n",
       "  'home': {'id': 139, 'div_id': 201, 'league_id': 103, 'div_index': 0}},\n",
       " {'away': {'id': 114, 'div_id': 202, 'league_id': 103, 'div_index': 1},\n",
       "  'home': {'id': 113, 'div_id': 205, 'league_id': 104, 'div_index': 1}},\n",
       " {'away': {'id': 143, 'div_id': 204, 'league_id': 104, 'div_index': 0},\n",
       "  'home': {'id': 111, 'div_id': 201, 'league_id': 103, 'div_index': 0}},\n",
       " {'away': {'id': 146, 'div_id': 204, 'league_id': 104, 'div_index': 0},\n",
       "  'home': {'id': 121, 'div_id': 204, 'league_id': 104, 'div_index': 0}},\n",
       " {'away': {'id': 134, 'div_id': 205, 'league_id': 104, 'div_index': 1},\n",
       "  'home': {'id': 138, 'div_id': 205, 'league_id': 104, 'div_index': 1}},\n",
       " {'away': {'id': 147, 'div_id': 201, 'league_id': 103, 'div_index': 0},\n",
       "  'home': {'id': 118, 'div_id': 202, 'league_id': 103, 'div_index': 1}},\n",
       " {'away': {'id': 108, 'div_id': 200, 'league_id': 103, 'div_index': 2},\n",
       "  'home': {'id': 109, 'div_id': 203, 'league_id': 104, 'div_index': 2}},\n",
       " {'away': {'id': 145, 'div_id': 202, 'league_id': 103, 'div_index': 1},\n",
       "  'home': {'id': 136, 'div_id': 200, 'league_id': 103, 'div_index': 2}},\n",
       " {'away': {'id': 140, 'div_id': 200, 'league_id': 103, 'div_index': 2},\n",
       "  'home': {'id': 119, 'div_id': 203, 'league_id': 104, 'div_index': 2}}]"
      ]
     },
     "execution_count": 57,
     "metadata": {},
     "output_type": "execute_result"
    }
   ],
   "source": [
    "# print(games)\n",
    "\n",
    "# print(games)\n",
    "for game in games:\n",
    "    # print(game)\n",
    "    try:\n",
    "        response_away = requests.get(f\"{BASE_URL}/v1/teams/{game['away']['id']}\")\n",
    "        game['away']['div_id'] = response_away.json()['teams'][0]['division']['id']\n",
    "        game['away']['league_id'] = response_away.json()['teams'][0]['league']['id']\n",
    "        response_home = requests.get(f\"{BASE_URL}/v1/teams/{game['home']['id']}\")\n",
    "        game['home']['div_id'] = response_home.json()['teams'][0]['division']['id']\n",
    "        game['home']['league_id'] = response_home.json()['teams'][0]['league']['id']\n",
    "\n",
    "    except requests.exceptions.RequestException as e:\n",
    "        print(e)\n",
    "\n",
    "# games\n",
    "\n",
    "for game in games:\n",
    "    away_div_id = game['away']['div_id']\n",
    "    home_div_id = game['home']['div_id']\n",
    "    away_league_id = game['away']['league_id']\n",
    "    home_league_id = game['home']['league_id']\n",
    "    game['away']['div_index'] = check_div_index(away_div_id, away_league_id)\n",
    "    game['home']['div_index'] = check_div_index(home_div_id, home_league_id)\n",
    "\n",
    "games\n"
   ]
  },
  {
   "cell_type": "code",
   "execution_count": 59,
   "id": "48d955b0-deb3-4bf0-85ee-367eac0d5132",
   "metadata": {},
   "outputs": [],
   "source": [
    "\n",
    "for game in games:\n",
    "    away_div_index = game['away']['div_index']\n",
    "    away_league_id = game['away']['league_id']\n",
    "    away_team_id = game['away']['id']\n",
    "    home_div_index = game['home']['div_index']\n",
    "    home_league_id = game['home']['league_id']\n",
    "    home_team_id = game['home']['id']\n",
    "    home_response = requests.get(f\"https://statsapi.mlb.com/api/v1/standings?leagueId={home_league_id}&season=2024&standingsTypes=regularSeason\")\n",
    "    away_response = requests.get(f\"https://statsapi.mlb.com/api/v1/standings?leagueId={away_league_id}&season=2024&standingsTypes=regularSeason\")\n",
    "    if away_response.status_code == 200:\n",
    "        away_json = away_response.json()\n",
    "        away_division_data = away_json['records'][away_div_index]['teamRecords']\n",
    "        for team in away_division_data:\n",
    "            if team['team']['id'] == away_team_id:\n",
    "                game['away']['team_data'] = team\n",
    "    if home_response.status_code == 200:\n",
    "        home_json = home_response.json()\n",
    "        home_division_data = home_json['records'][home_div_index]['teamRecords']\n",
    "        for team in home_division_data:\n",
    "            if team['team']['id'] == home_team_id:\n",
    "                game['home']['team_data'] = team\n",
    "\n",
    "\n",
    "\n",
    "\n"
   ]
  }
 ],
 "metadata": {
  "kernelspec": {
   "display_name": "Python 3 (ipykernel)",
   "language": "python",
   "name": "python3"
  },
  "language_info": {
   "codemirror_mode": {
    "name": "ipython",
    "version": 3
   },
   "file_extension": ".py",
   "mimetype": "text/x-python",
   "name": "python",
   "nbconvert_exporter": "python",
   "pygments_lexer": "ipython3",
   "version": "3.12.4"
  }
 },
 "nbformat": 4,
 "nbformat_minor": 5
}
