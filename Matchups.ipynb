{
 "cells": [
  {
   "cell_type": "code",
   "execution_count": 5,
   "id": "5db6b579-b72d-4b2a-b671-76d505802a8b",
   "metadata": {},
   "outputs": [
    {
     "name": "stdout",
     "output_type": "stream",
     "text": [
      "[{'game_id': 746866, 'game_datetime': '2024-06-16T17:05:00Z', 'game_date': '2024-06-16', 'game_type': 'R', 'status': 'Final', 'away_name': 'St. Louis Cardinals', 'home_name': 'Chicago Cubs', 'away_id': 138, 'home_id': 112, 'doubleheader': 'N', 'game_num': 1, 'home_probable_pitcher': 'Jameson Taillon', 'away_probable_pitcher': 'Miles Mikolas', 'home_pitcher_note': '', 'away_pitcher_note': '', 'away_score': 2, 'home_score': 1, 'current_inning': 9, 'inning_state': 'Bottom', 'venue_id': 17, 'venue_name': 'Wrigley Field', 'national_broadcasts': ['Roku'], 'series_status': 'STL wins 2-1', 'winning_team': 'St. Louis Cardinals', 'losing_team': 'Chicago Cubs', 'winning_pitcher': 'Miles Mikolas', 'losing_pitcher': 'Jameson Taillon', 'save_pitcher': 'Ryan Helsley', 'summary': '2024-06-16 - St. Louis Cardinals (2) @ Chicago Cubs (1) (Final)'}, {'game_id': 747023, 'game_datetime': '2024-06-16T17:35:00Z', 'game_date': '2024-06-16', 'game_type': 'R', 'status': 'Final', 'away_name': 'Philadelphia Phillies', 'home_name': 'Baltimore Orioles', 'away_id': 143, 'home_id': 110, 'doubleheader': 'N', 'game_num': 1, 'home_probable_pitcher': 'Corbin Burnes', 'away_probable_pitcher': 'Zack Wheeler', 'home_pitcher_note': '', 'away_pitcher_note': '', 'away_score': 3, 'home_score': 8, 'current_inning': 9, 'inning_state': 'Top', 'venue_id': 2, 'venue_name': 'Oriole Park at Camden Yards', 'national_broadcasts': [], 'series_status': 'BAL wins 2-1', 'winning_team': 'Baltimore Orioles', 'losing_team': 'Philadelphia Phillies', 'winning_pitcher': 'Corbin Burnes', 'losing_pitcher': 'Zack Wheeler', 'save_pitcher': 'Yennier Cano', 'summary': '2024-06-16 - Philadelphia Phillies (3) @ Baltimore Orioles (8) (Final)'}, {'game_id': 747109, 'game_datetime': '2024-06-16T17:35:00Z', 'game_date': '2024-06-16', 'game_type': 'R', 'status': 'Final', 'away_name': 'Tampa Bay Rays', 'home_name': 'Atlanta Braves', 'away_id': 139, 'home_id': 144, 'doubleheader': 'N', 'game_num': 1, 'home_probable_pitcher': 'Hurston Waldrep', 'away_probable_pitcher': 'Zach Eflin', 'home_pitcher_note': '', 'away_pitcher_note': '', 'away_score': 8, 'home_score': 6, 'current_inning': 9, 'inning_state': 'Bottom', 'venue_id': 4705, 'venue_name': 'Truist Park', 'national_broadcasts': ['MLBN (out-of-market only)'], 'series_status': 'ATL wins 2-1', 'winning_team': 'Tampa Bay Rays', 'losing_team': 'Atlanta Braves', 'winning_pitcher': 'Jason Adam', 'losing_pitcher': 'Raisel Iglesias', 'save_pitcher': 'Pete Fairbanks', 'summary': '2024-06-16 - Tampa Bay Rays (8) @ Atlanta Braves (6) (Final)'}, {'game_id': 744839, 'game_datetime': '2024-06-16T17:35:00Z', 'game_date': '2024-06-16', 'game_type': 'R', 'status': 'Final', 'away_name': 'Miami Marlins', 'home_name': 'Washington Nationals', 'away_id': 146, 'home_id': 120, 'doubleheader': 'N', 'game_num': 1, 'home_probable_pitcher': 'Mitchell Parker', 'away_probable_pitcher': 'Jesús Luzardo', 'home_pitcher_note': '', 'away_pitcher_note': '', 'away_score': 1, 'home_score': 3, 'current_inning': 9, 'inning_state': 'Top', 'venue_id': 3309, 'venue_name': 'Nationals Park', 'national_broadcasts': [], 'series_status': 'WSH wins 3-0', 'winning_team': 'Washington Nationals', 'losing_team': 'Miami Marlins', 'winning_pitcher': 'Mitchell Parker', 'losing_pitcher': 'Jesús Luzardo', 'save_pitcher': 'Kyle Finnegan', 'summary': '2024-06-16 - Miami Marlins (1) @ Washington Nationals (3) (Final)'}, {'game_id': 744926, 'game_datetime': '2024-06-16T17:37:00Z', 'game_date': '2024-06-16', 'game_type': 'R', 'status': 'Final', 'away_name': 'Cleveland Guardians', 'home_name': 'Toronto Blue Jays', 'away_id': 114, 'home_id': 141, 'doubleheader': 'N', 'game_num': 1, 'home_probable_pitcher': 'José Berríos', 'away_probable_pitcher': 'Ben Lively', 'home_pitcher_note': '', 'away_pitcher_note': '', 'away_score': 6, 'home_score': 7, 'current_inning': 9, 'inning_state': 'Top', 'venue_id': 14, 'venue_name': 'Rogers Centre', 'national_broadcasts': [], 'series_status': 'TOR wins 2-1', 'winning_team': 'Toronto Blue Jays', 'losing_team': 'Cleveland Guardians', 'winning_pitcher': 'José Berríos', 'losing_pitcher': 'Ben Lively', 'save_pitcher': 'Nate Pearson', 'summary': '2024-06-16 - Cleveland Guardians (6) @ Toronto Blue Jays (7) (Final)'}, {'game_id': 745807, 'game_datetime': '2024-06-16T17:40:00Z', 'game_date': '2024-06-16', 'game_type': 'R', 'status': 'Game Over', 'away_name': 'San Diego Padres', 'home_name': 'New York Mets', 'away_id': 135, 'home_id': 121, 'doubleheader': 'N', 'game_num': 1, 'home_probable_pitcher': 'Tylor Megill', 'away_probable_pitcher': 'Dylan Cease', 'home_pitcher_note': '', 'away_pitcher_note': '', 'away_score': 6, 'home_score': 11, 'current_inning': 9, 'inning_state': 'Top', 'venue_id': 3289, 'venue_name': 'Citi Field', 'national_broadcasts': ['MLBN (out-of-market only)'], 'series_status': 'NYM wins 3-0', 'winning_team': 'New York Mets', 'losing_team': 'San Diego Padres', 'winning_pitcher': 'Tylor Megill', 'losing_pitcher': 'Dylan Cease', 'save_pitcher': None, 'summary': '2024-06-16 - San Diego Padres (6) @ New York Mets (11) (Game Over)'}, {'game_id': 746377, 'game_datetime': '2024-06-16T18:10:00Z', 'game_date': '2024-06-16', 'game_type': 'R', 'status': 'Final', 'away_name': 'Detroit Tigers', 'home_name': 'Houston Astros', 'away_id': 116, 'home_id': 117, 'doubleheader': 'N', 'game_num': 1, 'home_probable_pitcher': 'Ronel Blanco', 'away_probable_pitcher': 'Kenta Maeda', 'home_pitcher_note': '', 'away_pitcher_note': '', 'away_score': 1, 'home_score': 4, 'current_inning': 9, 'inning_state': 'Top', 'venue_id': 2392, 'venue_name': 'Minute Maid Park', 'national_broadcasts': [], 'series_status': 'HOU wins 2-1', 'winning_team': 'Houston Astros', 'losing_team': 'Detroit Tigers', 'winning_pitcher': 'Ronel Blanco', 'losing_pitcher': 'Kenta Maeda', 'save_pitcher': None, 'summary': '2024-06-16 - Detroit Tigers (1) @ Houston Astros (4) (Final)'}, {'game_id': 745895, 'game_datetime': '2024-06-16T18:10:00Z', 'game_date': '2024-06-16', 'game_type': 'R', 'status': 'Manager challenge: Close play at 1st', 'away_name': 'Oakland Athletics', 'home_name': 'Minnesota Twins', 'away_id': 133, 'home_id': 142, 'doubleheader': 'S', 'game_num': 1, 'home_probable_pitcher': 'Bailey Ober', 'away_probable_pitcher': 'JP Sears', 'home_pitcher_note': '', 'away_pitcher_note': '', 'away_score': 2, 'home_score': 6, 'current_inning': 9, 'inning_state': 'Top', 'venue_id': 3312, 'venue_name': 'Target Field', 'national_broadcasts': [], 'series_status': 'MIN leads 2-0', 'summary': '2024-06-16 - Oakland Athletics @ Minnesota Twins (Manager challenge: Close play at 1st)'}, {'game_id': 745891, 'game_datetime': '2024-06-16T23:40:00Z', 'game_date': '2024-06-16', 'game_type': 'R', 'status': 'Scheduled', 'away_name': 'Oakland Athletics', 'home_name': 'Minnesota Twins', 'away_id': 133, 'home_id': 142, 'doubleheader': 'S', 'game_num': 2, 'home_probable_pitcher': 'Chris Paddack', 'away_probable_pitcher': 'Joey Estes', 'home_pitcher_note': '', 'away_pitcher_note': '', 'away_score': '0', 'home_score': '0', 'current_inning': '', 'inning_state': '', 'venue_id': 3312, 'venue_name': 'Target Field', 'national_broadcasts': [], 'series_status': 'MIN leads 2-0', 'summary': '2024-06-16 - Oakland Athletics @ Minnesota Twins (Scheduled)'}, {'game_id': 745977, 'game_datetime': '2024-06-16T18:10:00Z', 'game_date': '2024-06-16', 'game_type': 'R', 'status': 'Game Over', 'away_name': 'Cincinnati Reds', 'home_name': 'Milwaukee Brewers', 'away_id': 113, 'home_id': 158, 'doubleheader': 'N', 'game_num': 1, 'home_probable_pitcher': 'Colin Rea', 'away_probable_pitcher': 'Frankie Montas', 'home_pitcher_note': '', 'away_pitcher_note': '', 'away_score': 4, 'home_score': 5, 'current_inning': 9, 'inning_state': 'Top', 'venue_id': 32, 'venue_name': 'American Family Field', 'national_broadcasts': ['MLB.tv Free Game'], 'series_status': 'MIL wins 2-1', 'winning_team': 'Milwaukee Brewers', 'losing_team': 'Cincinnati Reds', 'winning_pitcher': 'Colin Rea', 'losing_pitcher': 'Lucas Sims', 'save_pitcher': 'Trevor Megill', 'summary': '2024-06-16 - Cincinnati Reds (4) @ Milwaukee Brewers (5) (Game Over)'}, {'game_id': 746546, 'game_datetime': '2024-06-16T19:10:00Z', 'game_date': '2024-06-16', 'game_type': 'R', 'status': 'In Progress', 'away_name': 'Pittsburgh Pirates', 'home_name': 'Colorado Rockies', 'away_id': 134, 'home_id': 115, 'doubleheader': 'N', 'game_num': 1, 'home_probable_pitcher': 'Dakota Hudson', 'away_probable_pitcher': 'Josh Fleming', 'home_pitcher_note': '', 'away_pitcher_note': '', 'away_score': 6, 'home_score': 0, 'current_inning': 7, 'inning_state': 'Top', 'venue_id': 19, 'venue_name': 'Coors Field', 'national_broadcasts': [], 'series_status': 'Series tied 1-1', 'summary': '2024-06-16 - Pittsburgh Pirates (6) @ Colorado Rockies (0) (Top of the 7th)'}, {'game_id': 745321, 'game_datetime': '2024-06-16T20:05:00Z', 'game_date': '2024-06-16', 'game_type': 'R', 'status': 'In Progress', 'away_name': 'Los Angeles Angels', 'home_name': 'San Francisco Giants', 'away_id': 108, 'home_id': 137, 'doubleheader': 'N', 'game_num': 1, 'home_probable_pitcher': 'Erik Miller', 'away_probable_pitcher': 'Ben Joyce', 'home_pitcher_note': '', 'away_pitcher_note': '', 'away_score': 2, 'home_score': 0, 'current_inning': 3, 'inning_state': 'Bottom', 'venue_id': 2395, 'venue_name': 'Oracle Park', 'national_broadcasts': [], 'series_status': 'LAA leads 2-0', 'summary': '2024-06-16 - Los Angeles Angels (2) @ San Francisco Giants (0) (Bottom of the 3rd)'}, {'game_id': 746130, 'game_datetime': '2024-06-16T20:10:00Z', 'game_date': '2024-06-16', 'game_type': 'R', 'status': 'In Progress', 'away_name': 'Kansas City Royals', 'home_name': 'Los Angeles Dodgers', 'away_id': 118, 'home_id': 119, 'doubleheader': 'N', 'game_num': 1, 'home_probable_pitcher': 'Tyler Glasnow', 'away_probable_pitcher': 'Brady Singer', 'home_pitcher_note': '', 'away_pitcher_note': '', 'away_score': 0, 'home_score': 1, 'current_inning': 4, 'inning_state': 'Top', 'venue_id': 22, 'venue_name': 'Dodger Stadium', 'national_broadcasts': ['MLBN (out-of-market only)'], 'series_status': 'Series tied 1-1', 'summary': '2024-06-16 - Kansas City Royals (0) @ Los Angeles Dodgers (1) (Top of the 4th)'}, {'game_id': 745242, 'game_datetime': '2024-06-16T20:10:00Z', 'game_date': '2024-06-16', 'game_type': 'R', 'status': 'In Progress', 'away_name': 'Texas Rangers', 'home_name': 'Seattle Mariners', 'away_id': 140, 'home_id': 136, 'doubleheader': 'N', 'game_num': 1, 'home_probable_pitcher': 'Logan Gilbert', 'away_probable_pitcher': 'Dane Dunning', 'home_pitcher_note': '', 'away_pitcher_note': '', 'away_score': 0, 'home_score': 0, 'current_inning': 3, 'inning_state': 'Bottom', 'venue_id': 680, 'venue_name': 'T-Mobile Park', 'national_broadcasts': ['MLBN (out-of-market only)'], 'series_status': 'SEA leads 2-0', 'summary': '2024-06-16 - Texas Rangers (0) @ Seattle Mariners (0) (Bottom of the 3rd)'}, {'game_id': 747189, 'game_datetime': '2024-06-16T20:10:00Z', 'game_date': '2024-06-16', 'game_type': 'R', 'status': 'In Progress', 'away_name': 'Chicago White Sox', 'home_name': 'Arizona Diamondbacks', 'away_id': 145, 'home_id': 109, 'doubleheader': 'N', 'game_num': 1, 'home_probable_pitcher': 'Jordan Montgomery', 'away_probable_pitcher': 'Drew Thorpe', 'home_pitcher_note': '', 'away_pitcher_note': '', 'away_score': 1, 'home_score': 3, 'current_inning': 3, 'inning_state': 'Middle', 'venue_id': 15, 'venue_name': 'Chase Field', 'national_broadcasts': [], 'series_status': 'Series tied 1-1', 'summary': '2024-06-16 - Chicago White Sox (1) @ Arizona Diamondbacks (3) (Middle of the 3rd)'}, {'game_id': 746945, 'game_datetime': '2024-06-16T23:10:00Z', 'game_date': '2024-06-16', 'game_type': 'R', 'status': 'Pre-Game', 'away_name': 'New York Yankees', 'home_name': 'Boston Red Sox', 'away_id': 147, 'home_id': 111, 'doubleheader': 'N', 'game_num': 1, 'home_probable_pitcher': 'Kutter Crawford', 'away_probable_pitcher': 'Marcus Stroman', 'home_pitcher_note': '', 'away_pitcher_note': '', 'away_score': 0, 'home_score': 0, 'current_inning': 1, 'inning_state': 'Top', 'venue_id': 3, 'venue_name': 'Fenway Park', 'national_broadcasts': ['ESPN'], 'series_status': 'Series tied 1-1', 'summary': '2024-06-16 - New York Yankees @ Boston Red Sox (Pre-Game)'}]\n"
     ]
    }
   ],
   "source": [
    "import statsapi\n",
    "import requests\n",
    "import json\n",
    "BASE_URL = \"https://statsapi.mlb.com/api\"\n",
    "\n",
    "from datetime import datetime\n",
    "today = datetime.today().strftime('%Y-%m-%d')\n",
    "\n",
    "sched = statsapi.schedule(date=today)\n",
    "print(sched)\n",
    "\n",
    "games = []\n",
    "\n",
    "\n",
    "for game in sched:\n",
    "    games.append({\"time\" : game['game_datetime'], \"away\" : {'id': game['away_id'], 'sp' : game['away_probable_pitcher']}, \"home\": {'id': game['home_id'], 'sp' : game['away_probable_pitcher']}})\n",
    "# # for game in sched:\n",
    "games\n",
    "    \n",
    "def check_div_index(div_id, league_id):\n",
    "    div_index = -1\n",
    "    if league_id == 103:\n",
    "        # al team\n",
    "        if div_id == 201:\n",
    "            # al east\n",
    "            div_index = 0\n",
    "        elif div_id == 202:\n",
    "            # al central\n",
    "            div_index = 1\n",
    "        elif div_id == 200:\n",
    "            # al west\n",
    "            div_index = 2\n",
    "    elif league_id == 104:\n",
    "        # nl team\n",
    "        if div_id == 204:\n",
    "            # nl east\n",
    "            div_index = 0\n",
    "        elif div_id == 205:\n",
    "            # nl central\n",
    "            div_index = 1\n",
    "        elif div_id == 203:\n",
    "            # nl west\n",
    "            div_index = 2\n",
    "    return div_index\n",
    "\n",
    "\n"
   ]
  },
  {
   "cell_type": "code",
   "execution_count": 6,
   "id": "73116576-43a6-4835-b725-d7c9327f2b66",
   "metadata": {},
   "outputs": [
    {
     "name": "stdout",
     "output_type": "stream",
     "text": [
      "{'time': '2024-06-16T17:05:00Z', 'away': {'id': 138, 'sp': 'Miles Mikolas', 'div_id': 205, 'league_id': 104}, 'home': {'id': 112, 'sp': 'Miles Mikolas', 'div_id': 205, 'league_id': 104}}\n",
      "{'time': '2024-06-16T17:35:00Z', 'away': {'id': 143, 'sp': 'Zack Wheeler', 'div_id': 204, 'league_id': 104}, 'home': {'id': 110, 'sp': 'Zack Wheeler', 'div_id': 201, 'league_id': 103}}\n",
      "{'time': '2024-06-16T17:35:00Z', 'away': {'id': 139, 'sp': 'Zach Eflin', 'div_id': 201, 'league_id': 103}, 'home': {'id': 144, 'sp': 'Zach Eflin', 'div_id': 204, 'league_id': 104}}\n",
      "{'time': '2024-06-16T17:35:00Z', 'away': {'id': 146, 'sp': 'Jesús Luzardo', 'div_id': 204, 'league_id': 104}, 'home': {'id': 120, 'sp': 'Jesús Luzardo', 'div_id': 204, 'league_id': 104}}\n",
      "{'time': '2024-06-16T17:37:00Z', 'away': {'id': 114, 'sp': 'Ben Lively', 'div_id': 202, 'league_id': 103}, 'home': {'id': 141, 'sp': 'Ben Lively', 'div_id': 201, 'league_id': 103}}\n",
      "{'time': '2024-06-16T17:40:00Z', 'away': {'id': 135, 'sp': 'Dylan Cease', 'div_id': 203, 'league_id': 104}, 'home': {'id': 121, 'sp': 'Dylan Cease', 'div_id': 204, 'league_id': 104}}\n",
      "{'time': '2024-06-16T18:10:00Z', 'away': {'id': 116, 'sp': 'Kenta Maeda', 'div_id': 202, 'league_id': 103}, 'home': {'id': 117, 'sp': 'Kenta Maeda', 'div_id': 200, 'league_id': 103}}\n",
      "{'time': '2024-06-16T18:10:00Z', 'away': {'id': 133, 'sp': 'JP Sears', 'div_id': 200, 'league_id': 103}, 'home': {'id': 142, 'sp': 'JP Sears', 'div_id': 202, 'league_id': 103}}\n",
      "{'time': '2024-06-16T23:40:00Z', 'away': {'id': 133, 'sp': 'Joey Estes', 'div_id': 200, 'league_id': 103}, 'home': {'id': 142, 'sp': 'Joey Estes', 'div_id': 202, 'league_id': 103}}\n",
      "{'time': '2024-06-16T18:10:00Z', 'away': {'id': 113, 'sp': 'Frankie Montas', 'div_id': 205, 'league_id': 104}, 'home': {'id': 158, 'sp': 'Frankie Montas', 'div_id': 205, 'league_id': 104}}\n",
      "{'time': '2024-06-16T19:10:00Z', 'away': {'id': 134, 'sp': 'Josh Fleming', 'div_id': 205, 'league_id': 104}, 'home': {'id': 115, 'sp': 'Josh Fleming', 'div_id': 203, 'league_id': 104}}\n",
      "{'time': '2024-06-16T20:05:00Z', 'away': {'id': 108, 'sp': 'Ben Joyce', 'div_id': 200, 'league_id': 103}, 'home': {'id': 137, 'sp': 'Ben Joyce', 'div_id': 203, 'league_id': 104}}\n",
      "{'time': '2024-06-16T20:10:00Z', 'away': {'id': 118, 'sp': 'Brady Singer', 'div_id': 202, 'league_id': 103}, 'home': {'id': 119, 'sp': 'Brady Singer', 'div_id': 203, 'league_id': 104}}\n",
      "{'time': '2024-06-16T20:10:00Z', 'away': {'id': 140, 'sp': 'Dane Dunning', 'div_id': 200, 'league_id': 103}, 'home': {'id': 136, 'sp': 'Dane Dunning', 'div_id': 200, 'league_id': 103}}\n",
      "{'time': '2024-06-16T20:10:00Z', 'away': {'id': 145, 'sp': 'Drew Thorpe', 'div_id': 202, 'league_id': 103}, 'home': {'id': 109, 'sp': 'Drew Thorpe', 'div_id': 203, 'league_id': 104}}\n",
      "{'time': '2024-06-16T23:10:00Z', 'away': {'id': 147, 'sp': 'Marcus Stroman', 'div_id': 201, 'league_id': 103}, 'home': {'id': 111, 'sp': 'Marcus Stroman', 'div_id': 201, 'league_id': 103}}\n"
     ]
    }
   ],
   "source": [
    "# print(games)\n",
    "# print(games)\n",
    "\n",
    "for game in games:\n",
    "    # print(game)\n",
    "    try:\n",
    "        response_away = requests.get(f\"{BASE_URL}/v1/teams/{game['away']['id']}\")\n",
    "        game['away']['div_id'] = response_away.json()['teams'][0]['division']['id']\n",
    "        game['away']['league_id'] = response_away.json()['teams'][0]['league']['id']\n",
    "        response_home = requests.get(f\"{BASE_URL}/v1/teams/{game['home']['id']}\")\n",
    "        game['home']['div_id'] = response_home.json()['teams'][0]['division']['id']\n",
    "        game['home']['league_id'] = response_home.json()['teams'][0]['league']['id']\n",
    "        print(game)\n",
    "    except requests.exceptions.RequestException as e:\n",
    "        print(e)\n",
    "\n",
    "for game in games:\n",
    "    away_div_id = game['away']['div_id']\n",
    "    home_div_id = game['home']['div_id']\n",
    "    away_league_id = game['away']['league_id']\n",
    "    home_league_id = game['home']['league_id']\n",
    "    game['away']['div_index'] = check_div_index(away_div_id, away_league_id)\n",
    "    game['home']['div_index'] = check_div_index(home_div_id, home_league_id)\n",
    "    \n",
    "\n"
   ]
  },
  {
   "cell_type": "code",
   "execution_count": null,
   "id": "48d955b0-deb3-4bf0-85ee-367eac0d5132",
   "metadata": {},
   "outputs": [
    {
     "ename": "KeyError",
     "evalue": "'div_index'",
     "output_type": "error",
     "traceback": [
      "\u001b[0;31m---------------------------------------------------------------------------\u001b[0m",
      "\u001b[0;31mKeyError\u001b[0m                                  Traceback (most recent call last)",
      "Cell \u001b[0;32mIn[13], line 2\u001b[0m\n\u001b[1;32m      1\u001b[0m \u001b[38;5;28;01mfor\u001b[39;00m game \u001b[38;5;129;01min\u001b[39;00m games:\n\u001b[0;32m----> 2\u001b[0m     away_div_index \u001b[38;5;241m=\u001b[39m \u001b[43mgame\u001b[49m\u001b[43m[\u001b[49m\u001b[38;5;124;43m'\u001b[39;49m\u001b[38;5;124;43maway\u001b[39;49m\u001b[38;5;124;43m'\u001b[39;49m\u001b[43m]\u001b[49m\u001b[43m[\u001b[49m\u001b[38;5;124;43m'\u001b[39;49m\u001b[38;5;124;43mdiv_index\u001b[39;49m\u001b[38;5;124;43m'\u001b[39;49m\u001b[43m]\u001b[49m\n\u001b[1;32m      3\u001b[0m     away_league_id \u001b[38;5;241m=\u001b[39m game[\u001b[38;5;124m'\u001b[39m\u001b[38;5;124maway\u001b[39m\u001b[38;5;124m'\u001b[39m][\u001b[38;5;124m'\u001b[39m\u001b[38;5;124mleague_id\u001b[39m\u001b[38;5;124m'\u001b[39m]\n\u001b[1;32m      4\u001b[0m     away_team_id \u001b[38;5;241m=\u001b[39m game[\u001b[38;5;124m'\u001b[39m\u001b[38;5;124maway\u001b[39m\u001b[38;5;124m'\u001b[39m][\u001b[38;5;124m'\u001b[39m\u001b[38;5;124mid\u001b[39m\u001b[38;5;124m'\u001b[39m]\n",
      "\u001b[0;31mKeyError\u001b[0m: 'div_index'"
     ]
    }
   ],
   "source": [
    "\n",
    "for game in games:\n",
    "    away_div_index = game['away']['div_index']\n",
    "    away_league_id = game['away']['league_id']\n",
    "    away_team_id = game['away']['id']\n",
    "    home_div_index = game['home']['div_index']\n",
    "    home_league_id = game['home']['league_id']\n",
    "    home_team_id = game['home']['id']\n",
    "    home_response = requests.get(f\"https://statsapi.mlb.com/api/v1/standings?leagueId={home_league_id}&season=2024&standingsTypes=regularSeason\")\n",
    "    away_response = requests.get(f\"https://statsapi.mlb.com/api/v1/standings?leagueId={away_league_id}&season=2024&standingsTypes=regularSeason\")\n",
    "    if away_response.status_code == 200:\n",
    "        away_json = away_response.json()\n",
    "        away_division_data = away_json['records'][away_div_index]['teamRecords']\n",
    "        for team in away_division_data:\n",
    "            if team['team']['id'] == away_team_id:\n",
    "                game['away']['team_data'] = team\n",
    "    if home_response.status_code == 200:\n",
    "        home_json = home_response.json()\n",
    "        home_division_data = home_json['records'][home_div_index]['teamRecords']\n",
    "        for team in home_division_data:\n",
    "            if team['team']['id'] == home_team_id:\n",
    "                game['home']['team_data'] = team\n",
    "\n",
    "\n",
    "\n",
    "\n"
   ]
  },
  {
   "cell_type": "code",
   "execution_count": null,
   "id": "3796dc3a-1cc9-440b-b6f7-107edc1d66d8",
   "metadata": {},
   "outputs": [],
   "source": []
  }
 ],
 "metadata": {
  "kernelspec": {
   "display_name": "Python 3 (ipykernel)",
   "language": "python",
   "name": "python3"
  },
  "language_info": {
   "codemirror_mode": {
    "name": "ipython",
    "version": 3
   },
   "file_extension": ".py",
   "mimetype": "text/x-python",
   "name": "python",
   "nbconvert_exporter": "python",
   "pygments_lexer": "ipython3",
   "version": "3.12.4"
  }
 },
 "nbformat": 4,
 "nbformat_minor": 5
}
